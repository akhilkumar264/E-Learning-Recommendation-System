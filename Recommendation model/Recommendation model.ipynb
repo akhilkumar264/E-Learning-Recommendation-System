{
 "cells": [
  {
   "cell_type": "code",
   "execution_count": null,
   "id": "8b35004f",
   "metadata": {},
   "outputs": [],
   "source": [
    "import os\n",
    "import numpy as np\n",
    "import pandas as pd\n",
    "import matplotlib.pyplot as plt\n",
    "import seaborn as sns\n",
    "\n",
    "# Read the CSV file\n",
    "data = pd.read_csv(\"Coursera_courses.csv\")\n",
    "\n",
    "# Select columns of interest\n",
    "data = data[['course_title', 'course_skills', 'course_difficulty']]\n",
    "\n"
   ]
  },
  {
   "cell_type": "markdown",
   "id": "91232889",
   "metadata": {},
   "source": [
    "**DATA PREPROCESSING**"
   ]
  },
  {
   "cell_type": "code",
   "execution_count": 2,
   "id": "5e175710",
   "metadata": {},
   "outputs": [
    {
     "data": {
      "text/html": [
       "<div>\n",
       "<style scoped>\n",
       "    .dataframe tbody tr th:only-of-type {\n",
       "        vertical-align: middle;\n",
       "    }\n",
       "\n",
       "    .dataframe tbody tr th {\n",
       "        vertical-align: top;\n",
       "    }\n",
       "\n",
       "    .dataframe thead th {\n",
       "        text-align: right;\n",
       "    }\n",
       "</style>\n",
       "<table border=\"1\" class=\"dataframe\">\n",
       "  <thead>\n",
       "    <tr style=\"text-align: right;\">\n",
       "      <th></th>\n",
       "      <th>Course Name</th>\n",
       "      <th>Skills</th>\n",
       "      <th>Difficulty Level</th>\n",
       "      <th>tags</th>\n",
       "    </tr>\n",
       "  </thead>\n",
       "  <tbody>\n",
       "    <tr>\n",
       "      <th>0</th>\n",
       "      <td>Google,Data,Analytics</td>\n",
       "      <td>Data Analysis, SQL, R Programming, Business Co...</td>\n",
       "      <td>Beginner</td>\n",
       "      <td>Google,Data,Analytics Beginner Data Analysis, ...</td>\n",
       "    </tr>\n",
       "    <tr>\n",
       "      <th>1</th>\n",
       "      <td>Google,Cybersecurity</td>\n",
       "      <td>Network Security, Python Programming, Linux, C...</td>\n",
       "      <td>Beginner</td>\n",
       "      <td>Google,Cybersecurity Beginner Network Security...</td>\n",
       "    </tr>\n",
       "    <tr>\n",
       "      <th>2</th>\n",
       "      <td>Google,Project,Management</td>\n",
       "      <td>Project Management, Strategy and Operations, L...</td>\n",
       "      <td>Beginner</td>\n",
       "      <td>Google,Project,Management Beginner Project Man...</td>\n",
       "    </tr>\n",
       "    <tr>\n",
       "      <th>3</th>\n",
       "      <td>Google,Digital,Marketing,&amp;,E-commerce</td>\n",
       "      <td>Digital Marketing, Marketing, Marketing Manage...</td>\n",
       "      <td>Beginner</td>\n",
       "      <td>Google,Digital,Marketing,&amp;,E-commerce Beginner...</td>\n",
       "    </tr>\n",
       "    <tr>\n",
       "      <th>4</th>\n",
       "      <td>IBM,Data,Science</td>\n",
       "      <td>Python Programming, Data Science, Machine Lear...</td>\n",
       "      <td>Beginner</td>\n",
       "      <td>IBM,Data,Science Beginner Python Programming, ...</td>\n",
       "    </tr>\n",
       "  </tbody>\n",
       "</table>\n",
       "</div>"
      ],
      "text/plain": [
       "                             Course Name  \\\n",
       "0                  Google,Data,Analytics   \n",
       "1                   Google,Cybersecurity   \n",
       "2              Google,Project,Management   \n",
       "3  Google,Digital,Marketing,&,E-commerce   \n",
       "4                       IBM,Data,Science   \n",
       "\n",
       "                                              Skills Difficulty Level  \\\n",
       "0  Data Analysis, SQL, R Programming, Business Co...         Beginner   \n",
       "1  Network Security, Python Programming, Linux, C...         Beginner   \n",
       "2  Project Management, Strategy and Operations, L...         Beginner   \n",
       "3  Digital Marketing, Marketing, Marketing Manage...         Beginner   \n",
       "4  Python Programming, Data Science, Machine Lear...         Beginner   \n",
       "\n",
       "                                                tags  \n",
       "0  Google,Data,Analytics Beginner Data Analysis, ...  \n",
       "1  Google,Cybersecurity Beginner Network Security...  \n",
       "2  Google,Project,Management Beginner Project Man...  \n",
       "3  Google,Digital,Marketing,&,E-commerce Beginner...  \n",
       "4  IBM,Data,Science Beginner Python Programming, ...  "
      ]
     },
     "execution_count": 2,
     "metadata": {},
     "output_type": "execute_result"
    }
   ],
   "source": [
    "# Rename columns\n",
    "data.rename(columns={'course_title': 'Course Name', \n",
    "                     'course_skills': 'Skills', \n",
    "                     'course_difficulty': 'Difficulty Level'}, inplace=True)\n",
    "# Removing spaces between the words (Lambda funtions can be used as well)\n",
    "\n",
    "data['Course Name'] = data['Course Name'].str.replace(' ',',')\n",
    "data['Course Name'] = data['Course Name'].str.replace(',,',',')\n",
    "data['Course Name'] = data['Course Name'].str.replace(':','')\n",
    "# Create 'tags' column by concatenating other columns\n",
    "data['tags'] = data['Course Name'] + ' ' + data['Difficulty Level'] + ' ' + data['Skills']\n",
    "\n",
    "data.head(5)\n"
   ]
  },
  {
   "cell_type": "code",
   "execution_count": 3,
   "id": "2e530baa",
   "metadata": {},
   "outputs": [
    {
     "data": {
      "text/plain": [
       "'Google,Cybersecurity Beginner Network Security, Python Programming, Linux, Cloud Computing, Algorithms, Audit, Computer Programming, Computer Security Incident Management, Cryptography, Databases, Leadership and Management, Network Architecture, Risk Management, SQL'"
      ]
     },
     "execution_count": 3,
     "metadata": {},
     "output_type": "execute_result"
    }
   ],
   "source": [
    "data['tags'].iloc[1]"
   ]
  },
  {
   "cell_type": "markdown",
   "id": "b1ce0a90",
   "metadata": {},
   "source": [
    "**DATAFRAME TO BE USED**"
   ]
  },
  {
   "cell_type": "code",
   "execution_count": 4,
   "id": "4144c6cb",
   "metadata": {
    "scrolled": true
   },
   "outputs": [
    {
     "name": "stderr",
     "output_type": "stream",
     "text": [
      "C:\\Users\\Adel Mohammed\\AppData\\Local\\Temp\\ipykernel_8136\\3936536727.py:5: SettingWithCopyWarning: \n",
      "A value is trying to be set on a copy of a slice from a DataFrame.\n",
      "Try using .loc[row_indexer,col_indexer] = value instead\n",
      "\n",
      "See the caveats in the documentation: https://pandas.pydata.org/pandas-docs/stable/user_guide/indexing.html#returning-a-view-versus-a-copy\n",
      "  new_df['tags'] = new_df['tags'].str.replace(',', ' ').str.lower()\n",
      "C:\\Users\\Adel Mohammed\\AppData\\Local\\Temp\\ipykernel_8136\\3936536727.py:6: SettingWithCopyWarning: \n",
      "A value is trying to be set on a copy of a slice from a DataFrame.\n",
      "Try using .loc[row_indexer,col_indexer] = value instead\n",
      "\n",
      "See the caveats in the documentation: https://pandas.pydata.org/pandas-docs/stable/user_guide/indexing.html#returning-a-view-versus-a-copy\n",
      "  new_df['Course Name'] = new_df['Course Name'].str.replace(',', ' ')\n",
      "C:\\Users\\Adel Mohammed\\AppData\\Local\\Temp\\ipykernel_8136\\3936536727.py:9: SettingWithCopyWarning: \n",
      "A value is trying to be set on a copy of a slice from a DataFrame\n",
      "\n",
      "See the caveats in the documentation: https://pandas.pydata.org/pandas-docs/stable/user_guide/indexing.html#returning-a-view-versus-a-copy\n",
      "  new_df.rename(columns={'Course Name': 'course_name'}, inplace=True)\n"
     ]
    }
   ],
   "source": [
    "# Create a new DataFrame with selected columns\n",
    "new_df = data[['Course Name', 'tags']]\n",
    "\n",
    "# Remove commas from 'tags' and 'Course Name', and convert 'tags' to lowercase\n",
    "new_df['tags'] = new_df['tags'].str.replace(',', ' ').str.lower()\n",
    "new_df['Course Name'] = new_df['Course Name'].str.replace(',', ' ')\n",
    "\n",
    "# Rename 'Course Name' column to 'course_name'\n",
    "new_df.rename(columns={'Course Name': 'course_name'}, inplace=True)\n",
    "\n",
    "# Display the first 5 rows of the new DataFrame\n",
    "new_df.head(5)\n",
    "\n",
    "data['Course Name'] = data['Course Name'].str.replace(',', ' ')"
   ]
  },
  {
   "cell_type": "markdown",
   "id": "9fdd2670",
   "metadata": {},
   "source": [
    "**TEXT VECTORIZATION**"
   ]
  },
  {
   "cell_type": "code",
   "execution_count": 5,
   "id": "091fd7e6",
   "metadata": {},
   "outputs": [],
   "source": [
    "from sklearn.feature_extraction.text import CountVectorizer\n",
    "\n",
    "cv = CountVectorizer(max_features=5000,stop_words='english')\n",
    "\n",
    "vectors = cv.fit_transform(new_df['tags']).toarray()\n",
    "\n"
   ]
  },
  {
   "cell_type": "markdown",
   "id": "3041850f",
   "metadata": {},
   "source": [
    "**STEMMING PROCESS**"
   ]
  },
  {
   "cell_type": "code",
   "execution_count": 6,
   "id": "234b2615",
   "metadata": {},
   "outputs": [
    {
     "name": "stderr",
     "output_type": "stream",
     "text": [
      "C:\\Users\\Adel Mohammed\\AppData\\Local\\Temp\\ipykernel_8136\\520476402.py:12: SettingWithCopyWarning: \n",
      "A value is trying to be set on a copy of a slice from a DataFrame.\n",
      "Try using .loc[row_indexer,col_indexer] = value instead\n",
      "\n",
      "See the caveats in the documentation: https://pandas.pydata.org/pandas-docs/stable/user_guide/indexing.html#returning-a-view-versus-a-copy\n",
      "  new_df['tags'] = new_df['tags'].apply(stem) #applying stemming on the tags column\n"
     ]
    },
    {
     "data": {
      "text/plain": [
       "0      googl data analyt beginn data analysi sql r pr...\n",
       "1      googl cybersecur beginn network secur python p...\n",
       "2      googl project manag beginn project manag strat...\n",
       "3      googl digit market & e-commerc beginn digit ma...\n",
       "4      ibm data scienc beginn python program data sci...\n",
       "                             ...                        \n",
       "878    write a featur length screenplay for film or t...\n",
       "879    camino a la excelencia en gestión de proyecto ...\n",
       "880    use databas with python beginn comput program ...\n",
       "881    cybersecur role process & oper system secur be...\n",
       "882    project manag foundat initi and plan beginn pr...\n",
       "Name: tags, Length: 883, dtype: object"
      ]
     },
     "execution_count": 6,
     "metadata": {},
     "output_type": "execute_result"
    }
   ],
   "source": [
    "import nltk \n",
    "from nltk.stem.porter import PorterStemmer\n",
    "ps = PorterStemmer()\n",
    "#defining the stemming function\n",
    "def stem(text):\n",
    "    y=[]\n",
    "    \n",
    "    for i in text.split():\n",
    "        y.append(ps.stem(i))\n",
    "    \n",
    "    return \" \".join(y)\n",
    "new_df['tags'] = new_df['tags'].apply(stem) #applying stemming on the tags column\n",
    "\n",
    "new_df['tags']\n"
   ]
  },
  {
   "cell_type": "markdown",
   "id": "98cc957c",
   "metadata": {},
   "source": [
    "**SIMILARITY MEASURE**"
   ]
  },
  {
   "cell_type": "code",
   "execution_count": 7,
   "id": "1c137d5d",
   "metadata": {},
   "outputs": [],
   "source": [
    "#similarity measure\n",
    "from sklearn.metrics.pairwise import cosine_similarity\n",
    "similarity = cosine_similarity(vectors)"
   ]
  },
  {
   "cell_type": "markdown",
   "id": "2787a818",
   "metadata": {},
   "source": [
    "**RECOMMENDATION FUNCTION**"
   ]
  },
  {
   "cell_type": "code",
   "execution_count": 8,
   "id": "2427249c",
   "metadata": {},
   "outputs": [],
   "source": [
    " def recommend(course):\n",
    "    # Check if the course exists in the dataset\n",
    "    if course not in new_df['course_name'].values:\n",
    "        print(\"Course not found.\")\n",
    "        return\n",
    "    \n",
    "    # Find index of the course in the new_df DataFrame\n",
    "    course_index = new_df[new_df['course_name'] == course].index[0]\n",
    "    distances = similarity[course_index]\n",
    "    course_list = sorted(list(enumerate(distances)), reverse=True, key=lambda x: x[1])[1:7]\n",
    "    \n",
    "    for i in course_list:\n",
    "        recommended_course = new_df.iloc[i[0]].course_name\n",
    "        # Find the corresponding difficulty level from the original data DataFrame\n",
    "        difficulty_level = data.loc[data['Course Name'] == recommended_course, 'Difficulty Level'].iloc[0]\n",
    "        print(recommended_course, \"Difficulty Level:\", difficulty_level)\n"
   ]
  },
  {
   "cell_type": "markdown",
   "id": "b50a5432",
   "metadata": {},
   "source": [
    "**RECOMMENDING COURSES**"
   ]
  },
  {
   "cell_type": "code",
   "execution_count": 13,
   "id": "e582c189",
   "metadata": {},
   "outputs": [
    {
     "name": "stdout",
     "output_type": "stream",
     "text": [
      "Data Science Statistics and Machine Learning Difficulty Level: Intermediate\n",
      "Applied Data Science with Python Difficulty Level: Intermediate\n",
      "Business Analytics Difficulty Level: Beginner\n",
      "Data Science Foundations using R Difficulty Level: Beginner\n",
      "Applied Data Science Difficulty Level: Beginner\n",
      "Data Analysis with Python Difficulty Level: Beginner\n"
     ]
    }
   ],
   "source": [
    "recommend('Data Science')"
   ]
  },
  {
   "cell_type": "code",
   "execution_count": 10,
   "id": "6bb75db3",
   "metadata": {},
   "outputs": [
    {
     "name": "stdout",
     "output_type": "stream",
     "text": [
      "Google データアナリティクス Difficulty Level: Beginner\n",
      "Data Analysis and Visualization Foundations Difficulty Level: Beginner\n",
      "IBM Data Analytics with Excel and R Difficulty Level: Beginner\n",
      "Google Data Analytics (PT) Difficulty Level: Beginner\n",
      "Data Analysis and Presentation Skills the PwC Approach Difficulty Level: Beginner\n",
      "Foundations Data Data Everywhere Difficulty Level: Beginner\n"
     ]
    }
   ],
   "source": [
    "recommend('Google Data Analytics')"
   ]
  },
  {
   "cell_type": "code",
   "execution_count": 11,
   "id": "46602b10",
   "metadata": {},
   "outputs": [
    {
     "name": "stdout",
     "output_type": "stream",
     "text": [
      "Advanced Learning Algorithms Difficulty Level: Beginner\n",
      "Unsupervised Learning Recommenders Reinforcement Learning Difficulty Level: Beginner\n",
      "Supervised Machine Learning Regression and Classification Difficulty Level: Beginner\n",
      "Sequence Models Difficulty Level: Intermediate\n",
      "Introduction to TensorFlow for Artificial Intelligence Machine Learning and Deep Learning Difficulty Level: Intermediate\n",
      "Convolutional Neural Networks in TensorFlow Difficulty Level: Intermediate\n"
     ]
    }
   ],
   "source": [
    "recommend('Machine Learning')"
   ]
  },
  {
   "cell_type": "code",
   "execution_count": null,
   "id": "3d4cb63a",
   "metadata": {},
   "outputs": [],
   "source": []
  }
 ],
 "metadata": {
  "kernelspec": {
   "display_name": "Python 3 (ipykernel)",
   "language": "python",
   "name": "python3"
  },
  "language_info": {
   "codemirror_mode": {
    "name": "ipython",
    "version": 3
   },
   "file_extension": ".py",
   "mimetype": "text/x-python",
   "name": "python",
   "nbconvert_exporter": "python",
   "pygments_lexer": "ipython3",
   "version": "3.10.9"
  }
 },
 "nbformat": 4,
 "nbformat_minor": 5
}
